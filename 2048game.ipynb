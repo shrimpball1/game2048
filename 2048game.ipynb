{
 "cells": [
  {
   "cell_type": "code",
   "execution_count": 1,
   "id": "24158d71",
   "metadata": {},
   "outputs": [
    {
     "name": "stdout",
     "output_type": "stream",
     "text": [
      "pygame 2.5.2 (SDL 2.28.3, Python 3.11.5)\n",
      "Hello from the pygame community. https://www.pygame.org/contribute.html\n"
     ]
    }
   ],
   "source": [
    "import pygame\n",
    "import random\n",
    "\n",
    "pygame.init()\n",
    "\n",
    "GRID_SIZE = 4\n",
    "TILE_SIZE = 100\n",
    "GRID_MARGIN = 10\n",
    "WHITE = (255, 255, 255)\n",
    "BLACK = (0, 0, 0)\n",
    "FONT_SIZE = 36"
   ]
  },
  {
   "cell_type": "code",
   "execution_count": 2,
   "id": "fbaa9387",
   "metadata": {},
   "outputs": [],
   "source": [
    "size = (GRID_SIZE * TILE_SIZE + (GRID_SIZE + 1) * GRID_MARGIN, GRID_SIZE * TILE_SIZE + (GRID_SIZE + 1) * GRID_MARGIN)\n",
    "screen = pygame.display.set_mode(size)\n",
    "pygame.display.set_caption(\"2048 Game\")"
   ]
  },
  {
   "cell_type": "code",
   "execution_count": 3,
   "id": "d8e493e4",
   "metadata": {},
   "outputs": [],
   "source": [
    "tile_colors = {\n",
    "    0: (204, 192, 179),\n",
    "    2: (238, 228, 218),\n",
    "    4: (237, 224, 200),\n",
    "    8: (242, 177, 121),\n",
    "    16: (245, 149, 99),\n",
    "    32: (246, 124, 95),\n",
    "    64: (246, 94, 59),\n",
    "    128: (237, 207, 114),\n",
    "    256: (237, 204, 97),\n",
    "    512: (237, 200, 80),\n",
    "    1024: (237, 197, 63),\n",
    "    2048: (237, 194, 46),\n",
    "}\n",
    "\n",
    "font = pygame.font.Font(None, FONT_SIZE)\n",
    "\n",
    "grid = [[0] * GRID_SIZE for _ in range(GRID_SIZE)]"
   ]
  },
  {
   "cell_type": "code",
   "execution_count": 4,
   "id": "b074c22a",
   "metadata": {},
   "outputs": [],
   "source": [
    "def add_new_tile():\n",
    "    empty_cells = [(x, y) for x in range(GRID_SIZE) for y in range(GRID_SIZE) if grid[x][y] == 0]\n",
    "    if empty_cells:\n",
    "        x, y = random.choice(empty_cells)\n",
    "        grid[x][y] = random.choice([2, 4])"
   ]
  },
  {
   "cell_type": "code",
   "execution_count": 5,
   "id": "9e2f8c73",
   "metadata": {},
   "outputs": [],
   "source": [
    "def draw_grid():\n",
    "    screen.fill(BLACK)\n",
    "    for x in range(GRID_SIZE):\n",
    "        for y in range(GRID_SIZE):\n",
    "            value = grid[x][y]\n",
    "            color = tile_colors.get(value, tile_colors[0])\n",
    "            pygame.draw.rect(screen, color, [(GRID_MARGIN + TILE_SIZE) * y + GRID_MARGIN,\n",
    "                                             (GRID_MARGIN + TILE_SIZE) * x + GRID_MARGIN,\n",
    "                                             TILE_SIZE,\n",
    "                                             TILE_SIZE])\n",
    "            if value != 0:\n",
    "                text = font.render(str(value), True, WHITE)\n",
    "                text_rect = text.get_rect(center=(((GRID_MARGIN + TILE_SIZE) * y + GRID_MARGIN + TILE_SIZE / 2),\n",
    "                                                  ((GRID_MARGIN + TILE_SIZE) * x + GRID_MARGIN + TILE_SIZE / 2)))\n",
    "                screen.blit(text, text_rect)"
   ]
  },
  {
   "cell_type": "code",
   "execution_count": 6,
   "id": "e59f0fbd",
   "metadata": {},
   "outputs": [],
   "source": [
    "def move(direction):\n",
    "    for _ in range(GRID_SIZE):\n",
    "        for row in range(GRID_SIZE):\n",
    "            for col in range(GRID_SIZE - 1, 0, -1):\n",
    "                if direction == 'LEFT':\n",
    "                    if grid[row][col] == grid[row][col - 1]:\n",
    "                        grid[row][col - 1] *= 2\n",
    "                        grid[row][col] = 0\n",
    "                elif direction == 'RIGHT':\n",
    "                    if grid[row][col] == grid[row][col - 1]:\n",
    "                        grid[row][col] *= 2\n",
    "                        grid[row][col - 1] = 0\n",
    "                elif direction == 'UP':\n",
    "                    if grid[col][row] == grid[col - 1][row]:\n",
    "                        grid[col - 1][row] *= 2\n",
    "                        grid[col][row] = 0\n",
    "                elif direction == 'DOWN':\n",
    "                    if grid[col][row] == grid[col - 1][row]:\n",
    "                        grid[col][row] *= 2\n",
    "                        grid[col - 1][row] = 0\n",
    "\n",
    "    for _ in range(GRID_SIZE):\n",
    "        for row in range(GRID_SIZE):\n",
    "            for col in range(GRID_SIZE - 1, 0, -1):\n",
    "                if direction == 'LEFT':\n",
    "                    if grid[row][col] == 0:\n",
    "                        grid[row][col], grid[row][col - 1] = grid[row][col - 1], grid[row][col]\n",
    "                elif direction == 'RIGHT':\n",
    "                    if grid[row][col] == 0:\n",
    "                        grid[row][col], grid[row][col - 1] = grid[row][col - 1], grid[row][col]\n",
    "                elif direction == 'UP':\n",
    "                    if grid[col][row] == 0:\n",
    "                        grid[col][row], grid[col - 1][row] = grid[col - 1][row], grid[col][row]\n",
    "                elif direction == 'DOWN':\n",
    "                    if grid[col][row] == 0:\n",
    "                        grid[col][row], grid[col - 1][row] = grid[col - 1][row], grid[col][row]\n"
   ]
  },
  {
   "cell_type": "code",
   "execution_count": 7,
   "id": "0fefdbe7",
   "metadata": {},
   "outputs": [],
   "source": [
    "running = True\n",
    "add_new_tile()\n",
    "while running:\n",
    "    for event in pygame.event.get():\n",
    "        if event.type == pygame.QUIT:\n",
    "            running = False\n",
    "        elif event.type == pygame.KEYDOWN:\n",
    "            if event.key == pygame.K_LEFT:\n",
    "                move('LEFT')\n",
    "            elif event.key == pygame.K_RIGHT:\n",
    "                move('RIGHT')\n",
    "            elif event.key == pygame.K_UP:\n",
    "                move('UP')\n",
    "            elif event.key == pygame.K_DOWN:\n",
    "                move('DOWN')\n",
    "            add_new_tile()\n",
    "\n",
    "    draw_grid()\n",
    "    pygame.display.flip()\n",
    "\n",
    "pygame.quit()"
   ]
  },
  {
   "cell_type": "code",
   "execution_count": null,
   "id": "c1fe986e",
   "metadata": {},
   "outputs": [],
   "source": []
  }
 ],
 "metadata": {
  "kernelspec": {
   "display_name": "Python 3 (ipykernel)",
   "language": "python",
   "name": "python3"
  },
  "language_info": {
   "codemirror_mode": {
    "name": "ipython",
    "version": 3
   },
   "file_extension": ".py",
   "mimetype": "text/x-python",
   "name": "python",
   "nbconvert_exporter": "python",
   "pygments_lexer": "ipython3",
   "version": "3.11.5"
  }
 },
 "nbformat": 4,
 "nbformat_minor": 5
}
